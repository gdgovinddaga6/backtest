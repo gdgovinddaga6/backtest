{
 "cells": [
  {
   "cell_type": "code",
   "execution_count": 11,
   "metadata": {},
   "outputs": [],
   "source": [
    "import pandas as pd\n",
    "import numpy as np \n",
    "import datetime\n",
    "from datetime import time"
   ]
  },
  {
   "cell_type": "code",
   "execution_count": 6,
   "metadata": {},
   "outputs": [],
   "source": [
    "df = pd.read_csv('./Day2.csv')"
   ]
  },
  {
   "cell_type": "code",
   "execution_count": 8,
   "metadata": {},
   "outputs": [
    {
     "data": {
      "text/html": [
       "<div>\n",
       "<style scoped>\n",
       "    .dataframe tbody tr th:only-of-type {\n",
       "        vertical-align: middle;\n",
       "    }\n",
       "\n",
       "    .dataframe tbody tr th {\n",
       "        vertical-align: top;\n",
       "    }\n",
       "\n",
       "    .dataframe thead th {\n",
       "        text-align: right;\n",
       "    }\n",
       "</style>\n",
       "<table border=\"1\" class=\"dataframe\">\n",
       "  <thead>\n",
       "    <tr style=\"text-align: right;\">\n",
       "      <th></th>\n",
       "      <th>Date</th>\n",
       "      <th>Time</th>\n",
       "      <th>Code</th>\n",
       "      <th>Dvalue</th>\n",
       "      <th>Price</th>\n",
       "      <th>FinalDate</th>\n",
       "    </tr>\n",
       "  </thead>\n",
       "  <tbody>\n",
       "    <tr>\n",
       "      <th>0</th>\n",
       "      <td>06-01-2021</td>\n",
       "      <td>8:32:44</td>\n",
       "      <td>Code3455C</td>\n",
       "      <td>1.0</td>\n",
       "      <td>254.950</td>\n",
       "      <td>06-Jan-21</td>\n",
       "    </tr>\n",
       "    <tr>\n",
       "      <th>1</th>\n",
       "      <td>06-01-2021</td>\n",
       "      <td>8:32:44</td>\n",
       "      <td>Code3460C</td>\n",
       "      <td>1.0</td>\n",
       "      <td>250.850</td>\n",
       "      <td>06-Jan-21</td>\n",
       "    </tr>\n",
       "    <tr>\n",
       "      <th>2</th>\n",
       "      <td>06-01-2021</td>\n",
       "      <td>8:32:44</td>\n",
       "      <td>Code3465C</td>\n",
       "      <td>1.0</td>\n",
       "      <td>245.350</td>\n",
       "      <td>06-Jan-21</td>\n",
       "    </tr>\n",
       "    <tr>\n",
       "      <th>3</th>\n",
       "      <td>06-01-2021</td>\n",
       "      <td>8:32:44</td>\n",
       "      <td>Code3470C</td>\n",
       "      <td>1.0</td>\n",
       "      <td>240.850</td>\n",
       "      <td>06-Jan-21</td>\n",
       "    </tr>\n",
       "    <tr>\n",
       "      <th>4</th>\n",
       "      <td>06-01-2021</td>\n",
       "      <td>8:32:44</td>\n",
       "      <td>Code3475C</td>\n",
       "      <td>1.0</td>\n",
       "      <td>235.400</td>\n",
       "      <td>06-Jan-21</td>\n",
       "    </tr>\n",
       "    <tr>\n",
       "      <th>...</th>\n",
       "      <td>...</td>\n",
       "      <td>...</td>\n",
       "      <td>...</td>\n",
       "      <td>...</td>\n",
       "      <td>...</td>\n",
       "      <td>...</td>\n",
       "    </tr>\n",
       "    <tr>\n",
       "      <th>236455</th>\n",
       "      <td>06-01-2021</td>\n",
       "      <td>11:21:43</td>\n",
       "      <td>Code3605P</td>\n",
       "      <td>0.0</td>\n",
       "      <td>0.075</td>\n",
       "      <td>06-01-2021</td>\n",
       "    </tr>\n",
       "    <tr>\n",
       "      <th>236456</th>\n",
       "      <td>06-01-2021</td>\n",
       "      <td>11:21:43</td>\n",
       "      <td>Code3610P</td>\n",
       "      <td>0.0</td>\n",
       "      <td>0.075</td>\n",
       "      <td>06-01-2021</td>\n",
       "    </tr>\n",
       "    <tr>\n",
       "      <th>236457</th>\n",
       "      <td>06-01-2021</td>\n",
       "      <td>11:21:43</td>\n",
       "      <td>Code3615P</td>\n",
       "      <td>0.0</td>\n",
       "      <td>0.075</td>\n",
       "      <td>06-01-2021</td>\n",
       "    </tr>\n",
       "    <tr>\n",
       "      <th>236458</th>\n",
       "      <td>06-01-2021</td>\n",
       "      <td>11:21:43</td>\n",
       "      <td>Code3620P</td>\n",
       "      <td>0.0</td>\n",
       "      <td>0.075</td>\n",
       "      <td>06-01-2021</td>\n",
       "    </tr>\n",
       "    <tr>\n",
       "      <th>236459</th>\n",
       "      <td>06-01-2021</td>\n",
       "      <td>11:21:43</td>\n",
       "      <td>Code3625P</td>\n",
       "      <td>0.0</td>\n",
       "      <td>0.075</td>\n",
       "      <td>06-01-2021</td>\n",
       "    </tr>\n",
       "  </tbody>\n",
       "</table>\n",
       "<p>57064 rows × 6 columns</p>\n",
       "</div>"
      ],
      "text/plain": [
       "              Date      Time       Code  Dvalue    Price   FinalDate\n",
       "0       06-01-2021   8:32:44  Code3455C     1.0  254.950   06-Jan-21\n",
       "1       06-01-2021   8:32:44  Code3460C     1.0  250.850   06-Jan-21\n",
       "2       06-01-2021   8:32:44  Code3465C     1.0  245.350   06-Jan-21\n",
       "3       06-01-2021   8:32:44  Code3470C     1.0  240.850   06-Jan-21\n",
       "4       06-01-2021   8:32:44  Code3475C     1.0  235.400   06-Jan-21\n",
       "...            ...       ...        ...     ...      ...         ...\n",
       "236455  06-01-2021  11:21:43  Code3605P     0.0    0.075  06-01-2021\n",
       "236456  06-01-2021  11:21:43  Code3610P     0.0    0.075  06-01-2021\n",
       "236457  06-01-2021  11:21:43  Code3615P     0.0    0.075  06-01-2021\n",
       "236458  06-01-2021  11:21:43  Code3620P     0.0    0.075  06-01-2021\n",
       "236459  06-01-2021  11:21:43  Code3625P     0.0    0.075  06-01-2021\n",
       "\n",
       "[57064 rows x 6 columns]"
      ]
     },
     "execution_count": 8,
     "metadata": {},
     "output_type": "execute_result"
    }
   ],
   "source": [
    "df_filtered"
   ]
  },
  {
   "cell_type": "code",
   "execution_count": 25,
   "metadata": {},
   "outputs": [],
   "source": [
    "ip_date = \"04-01-2022\"\n",
    "day, month, year = map(int, ip_date.split('-'))\n",
    "ip_date = datetime.date(year, month, day)\n",
    "ip_start_time = \"08:32:00\"\n",
    "h, m, s = map(int, ip_start_time.split(':'))\n",
    "ip_start_time = time(hour=h, minute=m, second=0)\n",
    "ip_end_time = \"11:04:00\"\n",
    "# h, m, s = map(int, ip_end_time.split(':'))\n",
    "# ip_end_time = time(hour=h, minute=m, second=s)\n",
    "dvalue_code1 = 0.92\n",
    "dvalue_code2 = 0.97\n",
    "dvalue_code3 = 1\n",
    "dvalue_code4 = 0.89\n",
    "dvalue_code5 = 0.8\n",
    "dvalue_code6 = 0.95\n",
    "d_values = [dvalue_code1, dvalue_code2, dvalue_code3,\n",
    "            dvalue_code4, dvalue_code5, dvalue_code6]\n"
   ]
  },
  {
   "cell_type": "code",
   "execution_count": 44,
   "metadata": {},
   "outputs": [
    {
     "data": {
      "text/plain": [
       "['Date', 'Time', 'Code', 'Dvalue', 'Price', 'FinalDate']"
      ]
     },
     "execution_count": 44,
     "metadata": {},
     "output_type": "execute_result"
    }
   ],
   "source": [
    "tolerance = 0.1\n",
    "# mrnList = []\n",
    "\n",
    "df_date = df[df['Time'].between(f'{h}:{m}:00', f'{h}:{m}:59')]\n",
    "list(df_date.columns)"
   ]
  },
  {
   "cell_type": "code",
   "execution_count": 56,
   "metadata": {},
   "outputs": [
    {
     "data": {
      "text/plain": [
       "pandas.core.frame.DataFrame"
      ]
     },
     "execution_count": 56,
     "metadata": {},
     "output_type": "execute_result"
    }
   ],
   "source": [
    "# df_filtered = df_date[df_date['Dvalue'].isin(d_values)]\n",
    "df_dval_filtered = pd.DataFrame([], columns=list(df_date.columns))\n",
    "type(df_dval_filtered)\n"
   ]
  },
  {
   "cell_type": "code",
   "execution_count": 78,
   "metadata": {},
   "outputs": [
    {
     "data": {
      "text/html": [
       "<div>\n",
       "<style scoped>\n",
       "    .dataframe tbody tr th:only-of-type {\n",
       "        vertical-align: middle;\n",
       "    }\n",
       "\n",
       "    .dataframe tbody tr th {\n",
       "        vertical-align: top;\n",
       "    }\n",
       "\n",
       "    .dataframe thead th {\n",
       "        text-align: right;\n",
       "    }\n",
       "</style>\n",
       "<table border=\"1\" class=\"dataframe\">\n",
       "  <thead>\n",
       "    <tr style=\"text-align: right;\">\n",
       "      <th></th>\n",
       "      <th>Date</th>\n",
       "      <th>Time</th>\n",
       "      <th>Code</th>\n",
       "      <th>Dvalue</th>\n",
       "      <th>Price</th>\n",
       "      <th>FinalDate</th>\n",
       "    </tr>\n",
       "  </thead>\n",
       "  <tbody>\n",
       "    <tr>\n",
       "      <th>0</th>\n",
       "      <td>06-01-2021</td>\n",
       "      <td>8:32:45</td>\n",
       "      <td>Code3580C</td>\n",
       "      <td>0.92</td>\n",
       "      <td>134.95</td>\n",
       "      <td>08-Jan-21</td>\n",
       "    </tr>\n",
       "    <tr>\n",
       "      <th>1</th>\n",
       "      <td>06-01-2021</td>\n",
       "      <td>8:32:45</td>\n",
       "      <td>Code3610C</td>\n",
       "      <td>0.92</td>\n",
       "      <td>104.45</td>\n",
       "      <td>08-Jan-21</td>\n",
       "    </tr>\n",
       "    <tr>\n",
       "      <th>2</th>\n",
       "      <td>06-01-2021</td>\n",
       "      <td>8:32:45</td>\n",
       "      <td>Code3580C</td>\n",
       "      <td>0.92</td>\n",
       "      <td>134.95</td>\n",
       "      <td>08-Jan-21</td>\n",
       "    </tr>\n",
       "    <tr>\n",
       "      <th>3</th>\n",
       "      <td>06-01-2021</td>\n",
       "      <td>8:32:45</td>\n",
       "      <td>Code3610C</td>\n",
       "      <td>0.92</td>\n",
       "      <td>104.45</td>\n",
       "      <td>08-Jan-21</td>\n",
       "    </tr>\n",
       "    <tr>\n",
       "      <th>4</th>\n",
       "      <td>06-01-2021</td>\n",
       "      <td>8:32:44</td>\n",
       "      <td>Code3625C</td>\n",
       "      <td>0.97</td>\n",
       "      <td>87.3</td>\n",
       "      <td>06-Jan-21</td>\n",
       "    </tr>\n",
       "  </tbody>\n",
       "</table>\n",
       "</div>"
      ],
      "text/plain": [
       "         Date     Time       Code Dvalue   Price  FinalDate\n",
       "0  06-01-2021  8:32:45  Code3580C   0.92  134.95  08-Jan-21\n",
       "1  06-01-2021  8:32:45  Code3610C   0.92  104.45  08-Jan-21\n",
       "2  06-01-2021  8:32:45  Code3580C   0.92  134.95  08-Jan-21\n",
       "3  06-01-2021  8:32:45  Code3610C   0.92  104.45  08-Jan-21\n",
       "4  06-01-2021  8:32:44  Code3625C   0.97    87.3  06-Jan-21"
      ]
     },
     "execution_count": 78,
     "metadata": {},
     "output_type": "execute_result"
    }
   ],
   "source": [
    "for d_value in d_values:\n",
    "    df_dvals = df_date[df_date['Dvalue'] == d_value]\n",
    "    if len(df_dvals) == 0:\n",
    "        range = [d_value - tolerance, d_value + tolerance]\n",
    "        df_dvals = df_date[df_date['Dvalue'].isin(range)]\n",
    "    df_dval_filtered = pd.concat([df_dval_filtered, df_dvals], axis=0, ignore_index=True)\n",
    "df_dval_filtered.head()\n"
   ]
  },
  {
   "cell_type": "code",
   "execution_count": null,
   "metadata": {},
   "outputs": [],
   "source": []
  }
 ],
 "metadata": {
  "interpreter": {
   "hash": "d1be29ce0883436707dca182657936253cac0f7d1afaf1d4b25d07fd683ddbd9"
  },
  "kernelspec": {
   "display_name": "Python 3.8.8 64-bit",
   "language": "python",
   "name": "python3"
  },
  "language_info": {
   "codemirror_mode": {
    "name": "ipython",
    "version": 3
   },
   "file_extension": ".py",
   "mimetype": "text/x-python",
   "name": "python",
   "nbconvert_exporter": "python",
   "pygments_lexer": "ipython3",
   "version": "3.8.8"
  },
  "orig_nbformat": 4
 },
 "nbformat": 4,
 "nbformat_minor": 2
}
