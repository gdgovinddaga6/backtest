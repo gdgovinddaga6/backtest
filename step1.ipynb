{
 "cells": [
  {
   "cell_type": "code",
   "execution_count": 1,
   "id": "cf3749e1",
   "metadata": {},
   "outputs": [],
   "source": [
    "import pyodbc\n",
    "import datetime\n",
    "from datetime import time\n",
    "import pandas as pd\n",
    "import warnings\n",
    "warnings.filterwarnings('ignore')"
   ]
  },
  {
   "cell_type": "code",
   "execution_count": 2,
   "id": "86443902",
   "metadata": {},
   "outputs": [],
   "source": [
    "ip_date = \"04-01-2022\"\n",
    "day, month, year = map(int, ip_date.split('-'))\n",
    "ip_date = datetime.date(year, month, day)\n",
    "ip_start_time = \"08:32:00\"\n",
    "h, m, s = map(int, ip_start_time.split(':'))\n",
    "ip_start_time = time(hour=h, minute=m, second=s)\n",
    "ip_end_time = \"11:04:00\"\n",
    "h, m, s = map(int, ip_end_time.split(':'))\n",
    "ip_end_time = time(hour=h, minute=m, second=s)\n",
    "dvalue_code1 = 0.92\n",
    "dvalue_code2 = 0.97\n",
    "dvalue_code3 = 1\n",
    "dvalue_code4 = 0.89\n",
    "dvalue_code5 = 0.8\n",
    "dvalue_code6 = 0.95"
   ]
  },
  {
   "cell_type": "code",
   "execution_count": 3,
   "id": "f33551da",
   "metadata": {},
   "outputs": [],
   "source": [
    "connection = pyodbc.connect('DRIVER={ODBC Driver 17 for SQL Server};SERVER=GOVIND\\MSSQLSERVER01;DATABASE=backtest;Trusted_Connection=yes;')\n",
    "query = \"\"\"select * from dbo.Day2 where Time between '8:30:00' and '9:32:00';\"\"\"\n",
    "df = pd.read_sql(query, connection)\n"
   ]
  },
  {
   "cell_type": "code",
   "execution_count": 5,
   "id": "2e781e98",
   "metadata": {},
   "outputs": [
    {
     "data": {
      "text/html": [
       "<div>\n",
       "<style scoped>\n",
       "    .dataframe tbody tr th:only-of-type {\n",
       "        vertical-align: middle;\n",
       "    }\n",
       "\n",
       "    .dataframe tbody tr th {\n",
       "        vertical-align: top;\n",
       "    }\n",
       "\n",
       "    .dataframe thead th {\n",
       "        text-align: right;\n",
       "    }\n",
       "</style>\n",
       "<table border=\"1\" class=\"dataframe\">\n",
       "  <thead>\n",
       "    <tr style=\"text-align: right;\">\n",
       "      <th></th>\n",
       "      <th>Date</th>\n",
       "      <th>Time</th>\n",
       "      <th>Code</th>\n",
       "      <th>Dvalue</th>\n",
       "      <th>Price</th>\n",
       "      <th>FinalDate</th>\n",
       "    </tr>\n",
       "  </thead>\n",
       "  <tbody>\n",
       "    <tr>\n",
       "      <th>0</th>\n",
       "      <td>2021-06-01</td>\n",
       "      <td>08:32:44</td>\n",
       "      <td>Code3455C</td>\n",
       "      <td>1.0</td>\n",
       "      <td>254.949997</td>\n",
       "      <td>2021-01-06</td>\n",
       "    </tr>\n",
       "    <tr>\n",
       "      <th>1</th>\n",
       "      <td>2021-06-01</td>\n",
       "      <td>08:32:44</td>\n",
       "      <td>Code3460C</td>\n",
       "      <td>1.0</td>\n",
       "      <td>250.850006</td>\n",
       "      <td>2021-01-06</td>\n",
       "    </tr>\n",
       "    <tr>\n",
       "      <th>2</th>\n",
       "      <td>2021-06-01</td>\n",
       "      <td>08:32:44</td>\n",
       "      <td>Code3465C</td>\n",
       "      <td>1.0</td>\n",
       "      <td>245.350006</td>\n",
       "      <td>2021-01-06</td>\n",
       "    </tr>\n",
       "    <tr>\n",
       "      <th>3</th>\n",
       "      <td>2021-06-01</td>\n",
       "      <td>08:32:44</td>\n",
       "      <td>Code3470C</td>\n",
       "      <td>1.0</td>\n",
       "      <td>240.850006</td>\n",
       "      <td>2021-01-06</td>\n",
       "    </tr>\n",
       "    <tr>\n",
       "      <th>4</th>\n",
       "      <td>2021-06-01</td>\n",
       "      <td>08:32:44</td>\n",
       "      <td>Code3475C</td>\n",
       "      <td>1.0</td>\n",
       "      <td>235.399994</td>\n",
       "      <td>2021-01-06</td>\n",
       "    </tr>\n",
       "  </tbody>\n",
       "</table>\n",
       "</div>"
      ],
      "text/plain": [
       "         Date      Time       Code  Dvalue       Price   FinalDate\n",
       "0  2021-06-01  08:32:44  Code3455C     1.0  254.949997  2021-01-06\n",
       "1  2021-06-01  08:32:44  Code3460C     1.0  250.850006  2021-01-06\n",
       "2  2021-06-01  08:32:44  Code3465C     1.0  245.350006  2021-01-06\n",
       "3  2021-06-01  08:32:44  Code3470C     1.0  240.850006  2021-01-06\n",
       "4  2021-06-01  08:32:44  Code3475C     1.0  235.399994  2021-01-06"
      ]
     },
     "execution_count": 5,
     "metadata": {},
     "output_type": "execute_result"
    }
   ],
   "source": [
    "df.head()"
   ]
  },
  {
   "cell_type": "code",
   "execution_count": null,
   "id": "89ca070d",
   "metadata": {},
   "outputs": [],
   "source": []
  }
 ],
 "metadata": {
  "kernelspec": {
   "display_name": "Python 3 (ipykernel)",
   "language": "python",
   "name": "python3"
  },
  "language_info": {
   "codemirror_mode": {
    "name": "ipython",
    "version": 3
   },
   "file_extension": ".py",
   "mimetype": "text/x-python",
   "name": "python",
   "nbconvert_exporter": "python",
   "pygments_lexer": "ipython3",
   "version": "3.9.0"
  }
 },
 "nbformat": 4,
 "nbformat_minor": 5
}
