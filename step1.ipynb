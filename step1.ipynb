{
 "cells": [
  {
   "cell_type": "code",
   "execution_count": 161,
   "id": "cf3749e1",
   "metadata": {},
   "outputs": [
    {
     "name": "stdout",
     "output_type": "stream",
     "text": [
      "2022-02-25 08:32:00\n",
      "2022-02-25 08:32:59\n"
     ]
    }
   ],
   "source": [
    "import pyodbc\n",
    "import datetime\n",
    "from datetime import time\n",
    "import pandas as pd\n",
    "import warnings\n",
    "warnings.filterwarnings('ignore')\n",
    "\n",
    "\n",
    "ip_date = \"25-02-2022\"\n",
    "day, month, year = map(int, ip_date.split('-'))\n",
    "ip_date = datetime.datetime(year, month, day)\n",
    "ip_start_time = \"08:32:00\"\n",
    "h, m, s = map(int, ip_start_time.split(':'))\n",
    "ip_start_time = datetime.datetime(year, month, day, h, m, 00)\n",
    "print(ip_start_time)\n",
    "ip_start_end_time = datetime.datetime(year, month, day, h, m, 59)\n",
    "print(ip_start_end_time)\n",
    "ip_end_time = \"09:04:00\"\n",
    "# eh, em, es = map(int, ip_end_time.split(':'))\n",
    "# ip_end_time = time(hour=eh, minute=em, second=es)\n",
    "# ip_start_dt = ip_date.combine(ip_date, ip_start_time)\n",
    "# ip_end_dt = ip_date.combine(ip_date, ip_end_time)\n",
    "dvalue_code1 = 0.92\n",
    "dvalue_code2 = 0.97\n",
    "dvalue_code3 = 0.90\n",
    "dvalue_code4 = 0.81\n",
    "dvalue_code5 = 0.8\n",
    "dvalue_code6 = 0.95\n",
    "d_values = [dvalue_code1, dvalue_code2, dvalue_code3,\n",
    "            dvalue_code4, dvalue_code5, dvalue_code6]\n",
    "tolerance = 0.01"
   ]
  },
  {
   "cell_type": "code",
   "execution_count": 162,
   "id": "f33551da",
   "metadata": {},
   "outputs": [],
   "source": [
    "connection = pyodbc.connect('DRIVER={ODBC Driver 17 for SQL Server};SERVER=GOVIND\\MSSQLSERVER01;DATABASE=backtest;Trusted_Connection=yes;')\n",
    "query = \"\"\"select * from dbo.Day3;\"\"\"\n",
    "df = pd.read_sql(query, connection)\n"
   ]
  },
  {
   "cell_type": "code",
   "execution_count": 163,
   "id": "0fa06c11",
   "metadata": {},
   "outputs": [],
   "source": [
    "df['start_date_time'] = df.apply(lambda r : pd.datetime.combine(r['Date'],r['Time']),1)\n",
    "df = df.drop(['Date', 'Time'], axis = 1)\n",
    "df = df.dropna()\n",
    "df.head()"
   ]
  },
  {
   "cell_type": "code",
   "execution_count": 176,
   "id": "d49a6f7a",
   "metadata": {},
   "outputs": [
    {
     "name": "stdout",
     "output_type": "stream",
     "text": [
      "           Code  Dvalue  Price   FinalDate     start_date_time\n",
      "1023  Code4310P   -0.56  47.70  2022-02-28 2022-02-25 08:32:00\n",
      "1024  Code4315P   -0.58  50.25  2022-02-28 2022-02-25 08:32:00\n",
      "1025  Code4320P   -0.60  53.05  2022-02-28 2022-02-25 08:32:00\n",
      "1026  Code4325P   -0.62  55.90  2022-02-28 2022-02-25 08:32:01\n",
      "1027  Code4330P   -0.64  59.45  2022-02-28 2022-02-25 08:32:01\n",
      "           Code  Dvalue   Price   FinalDate     start_date_time\n",
      "1062  Code4100C     1.0  194.90  2022-02-25 2022-02-25 08:32:06\n",
      "1063  Code4105C     1.0  190.00  2022-02-25 2022-02-25 08:32:07\n",
      "1064  Code4110C     1.0  185.00  2022-02-25 2022-02-25 08:32:07\n",
      "1065  Code4115C     1.0  180.10  2022-02-25 2022-02-25 08:32:07\n",
      "1066  Code4120C     1.0  175.15  2022-02-25 2022-02-25 08:32:07\n"
     ]
    }
   ],
   "source": [
    "df = df[df.start_date_time.between(ip_start_time, ip_start_end_time)]\n",
    "unique_final_dates = df['FinalDate'].unique()\n",
    "final_date_dict = {}\n",
    "\n",
    "for final_date in unique_final_dates:\n",
    "    final_date_dict[final_date] = {\"data\":df[df['FinalDate'] == final_date]}\n",
    "    print(final_date_dict[final_date][\"data\"].head())"
   ]
  },
  {
   "cell_type": "code",
   "execution_count": 184,
   "id": "0ff5a203",
   "metadata": {},
   "outputs": [],
   "source": [
    "for key_date in final_date_dict.keys():\n",
    "    temp = final_date_dict[key_date]['data']\n",
    "    df_dval_filtered = pd.DataFrame([], columns=list(temp.columns))\n",
    "    type(df_dval_filtered)\n",
    "    avail_dvals = list(temp['Dvalue'].unique())\n",
    "    dvalue_first = pd.DataFrame([], columns=list(temp.columns))\n",
    "    for d_value in d_values:\n",
    "        curr_dvalue = d_value\n",
    "        df_dvals = temp[temp['Dvalue'] == curr_dvalue]\n",
    "        while len(df_dvals) == 0:\n",
    "            # print(len(df_dvals), d_value)\n",
    "            less_curr_dvalue, high_curr_dvalue = curr_dvalue - tolerance, curr_dvalue + tolerance\n",
    "            if less_curr_dvalue in avail_dvals:\n",
    "                curr_dvalue = less_curr_dvalue\n",
    "                df_dvals = temp[temp['Dvalue'] == curr_dvalue]\n",
    "            elif high_curr_dvalue in avail_dvals:\n",
    "                curr_dvalue = high_curr_dvalue\n",
    "                df_dvals = temp[temp['Dvalue'] == curr_dvalue]\n",
    "        #print(df_dvals.iloc[0])\n",
    "        dvalue_first = pd.concat([dvalue_first, df_dvals.head(1)], axis=0, ignore_index=True)\n",
    "        df_dval_filtered = pd.concat([df_dval_filtered, df_dvals], axis=0, ignore_index=True)\n",
    "        # final_date_dict_filtered[]\n",
    "        #final_date_dict[key_date][\"filtered\"] = df_dval_filtered\n",
    "        final_date_dict[key_date][\"first\"] = dvalue_first\n",
    "    \n",
    "    # df_dval_filtered"
   ]
  },
  {
   "cell_type": "code",
   "execution_count": 186,
   "id": "1c805cee",
   "metadata": {},
   "outputs": [
    {
     "data": {
      "text/html": [
       "<div>\n",
       "<style scoped>\n",
       "    .dataframe tbody tr th:only-of-type {\n",
       "        vertical-align: middle;\n",
       "    }\n",
       "\n",
       "    .dataframe tbody tr th {\n",
       "        vertical-align: top;\n",
       "    }\n",
       "\n",
       "    .dataframe thead th {\n",
       "        text-align: right;\n",
       "    }\n",
       "</style>\n",
       "<table border=\"1\" class=\"dataframe\">\n",
       "  <thead>\n",
       "    <tr style=\"text-align: right;\">\n",
       "      <th></th>\n",
       "      <th>Code</th>\n",
       "      <th>Dvalue</th>\n",
       "      <th>Price</th>\n",
       "      <th>FinalDate</th>\n",
       "      <th>start_date_time</th>\n",
       "    </tr>\n",
       "  </thead>\n",
       "  <tbody>\n",
       "    <tr>\n",
       "      <th>2443</th>\n",
       "      <td>Code4330P</td>\n",
       "      <td>-0.62</td>\n",
       "      <td>54.95</td>\n",
       "      <td>2022-02-28</td>\n",
       "      <td>2022-02-25 08:32:59</td>\n",
       "    </tr>\n",
       "  </tbody>\n",
       "</table>\n",
       "</div>"
      ],
      "text/plain": [
       "           Code  Dvalue  Price   FinalDate     start_date_time\n",
       "2443  Code4330P   -0.62  54.95  2022-02-28 2022-02-25 08:32:59"
      ]
     },
     "execution_count": 186,
     "metadata": {},
     "output_type": "execute_result"
    }
   ],
   "source": [
    "df.tail(1)"
   ]
  },
  {
   "cell_type": "code",
   "execution_count": 185,
   "id": "5285ee6d",
   "metadata": {},
   "outputs": [
    {
     "name": "stdout",
     "output_type": "stream",
     "text": [
      "        Code Dvalue   Price   FinalDate      start_date_time\n",
      "0  Code4115C   0.92  184.35  2022-02-28  2022-02-25 08:32:15\n",
      "1  Code4080C   0.97  221.65  2022-02-28  2022-02-25 08:32:55\n",
      "2  Code4135C    0.9  165.45  2022-02-28  2022-02-25 08:32:15\n",
      "3  Code4195C   0.81   111.2  2022-02-28  2022-02-25 08:32:16\n",
      "4  Code4200C    0.8  107.95  2022-02-28  2022-02-25 08:32:16\n",
      "5  Code4075C   0.95   222.8  2022-02-28  2022-02-25 08:32:15\n",
      "        Code Dvalue   Price   FinalDate      start_date_time\n",
      "0  Code4130C   0.92   171.7  2022-02-25  2022-02-25 08:32:37\n",
      "1  Code4100C   0.97  200.65  2022-02-25  2022-02-25 08:32:37\n",
      "2  Code4175C    0.9   122.3  2022-02-25  2022-02-25 08:32:07\n",
      "3  Code4215C   0.81    89.5  2022-02-25  2022-02-25 08:32:38\n",
      "4  Code4220C    0.8    80.4  2022-02-25  2022-02-25 08:32:08\n",
      "5  Code4120C   0.95  180.85  2022-02-25  2022-02-25 08:32:37\n"
     ]
    }
   ],
   "source": [
    "for val in final_date_dict.values():\n",
    "    print(val[\"first\"])\n"
   ]
  }
 ],
 "metadata": {
  "kernelspec": {
   "display_name": "Python 3 (ipykernel)",
   "language": "python",
   "name": "python3"
  },
  "language_info": {
   "codemirror_mode": {
    "name": "ipython",
    "version": 3
   },
   "file_extension": ".py",
   "mimetype": "text/x-python",
   "name": "python",
   "nbconvert_exporter": "python",
   "pygments_lexer": "ipython3",
   "version": "3.9.0"
  }
 },
 "nbformat": 4,
 "nbformat_minor": 5
}
